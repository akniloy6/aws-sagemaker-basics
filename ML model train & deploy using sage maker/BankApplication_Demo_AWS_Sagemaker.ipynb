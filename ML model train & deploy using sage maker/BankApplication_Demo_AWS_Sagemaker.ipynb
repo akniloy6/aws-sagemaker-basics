{
 "cells": [
  {
   "cell_type": "markdown",
   "id": "aad178f5",
   "metadata": {},
   "source": [
    "This notebook follows the basic tutorial series of Krish Nayek for training and testing a ML model in AWS sagemaker. The code has been updated to solve the errors provided in the tutorials.\n",
    "\n",
    "# Steps to be followed\n",
    "\n",
    "* Import necessary libraries\n",
    "* Creating S3 Bucket\n",
    "* Mapping train and test data in S3\n",
    "* Mapping the path of the models in S3\n",
    "* Download and load the datasets\n",
    "* Load the datasets into the S3  bucket\n",
    "* Load the sagemaker built-in model\n",
    "* Train the model\n",
    "* Create trained model endpoints \n",
    "* Test the model\n",
    "* Delete everything after testing"
   ]
  },
  {
   "cell_type": "code",
   "execution_count": 48,
   "id": "5a404567",
   "metadata": {},
   "outputs": [],
   "source": [
    "import sagemaker\n",
    "import boto3 #used for accessing s3 bucket\n",
    "from sagemaker.amazon.amazon_estimator import get_image_uri\n",
    "from sagemaker import image_uris\n",
    "from sagemaker.session import s3_input, Session"
   ]
  },
  {
   "cell_type": "code",
   "execution_count": 33,
   "id": "11fc0c70",
   "metadata": {},
   "outputs": [
    {
     "name": "stdout",
     "output_type": "stream",
     "text": [
      "eu-north-1\n"
     ]
    }
   ],
   "source": [
    "bucket_name = \"ak-bankapp001\"\n",
    "my_region = boto3.session.Session().region_name\n",
    "print(my_region)"
   ]
  },
  {
   "cell_type": "markdown",
   "id": "373fa0b0",
   "metadata": {},
   "source": [
    "***Create a S3 bucket***"
   ]
  },
  {
   "cell_type": "code",
   "execution_count": 34,
   "id": "e1725cc4",
   "metadata": {},
   "outputs": [
    {
     "name": "stdout",
     "output_type": "stream",
     "text": [
      "S3 bucket created successfully\n"
     ]
    }
   ],
   "source": [
    "s3 = boto3.resource('s3')\n",
    "try:\n",
    "    if(my_region == 'eu-north-1'):\n",
    "        s3.create_bucket(Bucket=bucket_name,CreateBucketConfiguration={'LocationConstraint': 'eu-north-1'})\n",
    "    print(\"S3 bucket created successfully\")\n",
    "except Exception as e:\n",
    "    print('S3 error: ', e)"
   ]
  },
  {
   "cell_type": "markdown",
   "id": "5ea899b7",
   "metadata": {},
   "source": [
    "***Set output path for the model to be saved while being trained***"
   ]
  },
  {
   "cell_type": "code",
   "execution_count": 35,
   "id": "df715e09",
   "metadata": {},
   "outputs": [
    {
     "name": "stdout",
     "output_type": "stream",
     "text": [
      "s3://ak-bankapp001/xgboost-as-a-built-in-algo/output\n"
     ]
    }
   ],
   "source": [
    "prefix = \"xgboost-as-a-built-in-algo\"\n",
    "output_path = 's3://{}/{}/output'.format(bucket_name,prefix)\n",
    "print(output_path)"
   ]
  },
  {
   "cell_type": "markdown",
   "id": "80730145",
   "metadata": {},
   "source": [
    "***Downloading the dataset and store it in the bucket***"
   ]
  },
  {
   "cell_type": "code",
   "execution_count": 37,
   "id": "5825cd96",
   "metadata": {},
   "outputs": [
    {
     "name": "stdout",
     "output_type": "stream",
     "text": [
      "Suceeeded in downloading the bank_data.csv\n"
     ]
    }
   ],
   "source": [
    "import pandas as pd\n",
    "import urllib\n",
    "try:\n",
    "    urllib.request.urlretrieve(\"https://d1.awsstatic.com/tmt/build-train-deploy-machine-learning-model-sagemaker/bank_clean.27f01fbbdf43271788427f3682996ae29ceca05d.csv\",'bank_clean.csv')\n",
    "    print(\"Suceeeded in downloading the bank_data.csv\")\n",
    "except Exception as e:\n",
    "    print(\"data load error: \", e)"
   ]
  },
  {
   "cell_type": "code",
   "execution_count": 39,
   "id": "c538d7a1",
   "metadata": {},
   "outputs": [
    {
     "name": "stdout",
     "output_type": "stream",
     "text": [
      "Suceess: data loaded into dataframe\n"
     ]
    }
   ],
   "source": [
    "try:\n",
    "    model_data = pd.read_csv(\"./bank_clean.csv\", index_col=0)\n",
    "    print(\"Suceess: data loaded into dataframe\")\n",
    "except exception as e:\n",
    "    print(\"data loader error: \", e)"
   ]
  },
  {
   "cell_type": "markdown",
   "id": "f8203141",
   "metadata": {},
   "source": [
    "Train_test_split"
   ]
  },
  {
   "cell_type": "code",
   "execution_count": 40,
   "id": "2ad53715",
   "metadata": {},
   "outputs": [
    {
     "name": "stdout",
     "output_type": "stream",
     "text": [
      "(28831, 61) (12357, 61)\n"
     ]
    }
   ],
   "source": [
    "import numpy as np\n",
    "train_data, test_data = np.split(model_data.sample(frac= 1, random_state= 175), [int(0.7* len(model_data))])\n",
    "print(train_data.shape, test_data.shape)"
   ]
  },
  {
   "cell_type": "markdown",
   "id": "c733c644",
   "metadata": {},
   "source": [
    "***Save Train data into the bucket***\n",
    "\n",
    "For sagemaker, the dependent column should be the first feature. So the dependent colum should be placed first and the other independent columns should be concatenated after it\n"
   ]
  },
  {
   "cell_type": "code",
   "execution_count": 42,
   "id": "69c4a620",
   "metadata": {},
   "outputs": [],
   "source": [
    "import os\n",
    "pd.concat([train_data[\"y_yes\"], train_data.drop(['y_no','y_yes'], axis=1)],\n",
    "         axis=1).to_csv('train.csv', index=False, header= False)"
   ]
  },
  {
   "cell_type": "code",
   "execution_count": 43,
   "id": "9dcc0589",
   "metadata": {},
   "outputs": [],
   "source": [
    "#upload the train csv in the bucket\n",
    "boto3.Session().resource('s3').Bucket(bucket_name).Object(os.path.join(prefix, 'train/train.csv')).upload_file('train.csv')\n",
    "s3_input_train= sagemaker.TrainingInput(s3_data='s3://{}/{}/train'.format(bucket_name,prefix), content_type='csv')"
   ]
  },
  {
   "cell_type": "code",
   "execution_count": 44,
   "id": "6928c38e",
   "metadata": {},
   "outputs": [],
   "source": [
    "pd.concat([test_data[\"y_yes\"], test_data.drop(['y_no','y_yes'], axis=1)],\n",
    "         axis=1).to_csv('test.csv', index=False, header= False)"
   ]
  },
  {
   "cell_type": "code",
   "execution_count": 57,
   "id": "b36e8e5d",
   "metadata": {},
   "outputs": [],
   "source": [
    "#upload the test csv in the bucket\n",
    "boto3.Session().resource('s3').Bucket(bucket_name).Object(os.path.join(prefix, 'test/test.csv')).upload_file('test.csv')\n",
    "s3_input_test= sagemaker.TrainingInput(s3_data='s3://{}/{}/test'.format(bucket_name,prefix), content_type='csv')"
   ]
  },
  {
   "cell_type": "markdown",
   "id": "bece1c02",
   "metadata": {},
   "source": [
    "***Building model XGBOOST***\n",
    "\n",
    "uses the in-bulit sagemaker xgboost algorithm. It is presented in the form of a container or an image. "
   ]
  },
  {
   "cell_type": "code",
   "execution_count": 51,
   "id": "aeeab03b",
   "metadata": {},
   "outputs": [],
   "source": [
    "container = image_uris.retrieve(region= boto3.Session().region_name,\n",
    "                                framework='xgboost',\n",
    "                                version= '1.0-1')"
   ]
  },
  {
   "cell_type": "code",
   "execution_count": 59,
   "id": "f1c8df70",
   "metadata": {},
   "outputs": [],
   "source": [
    "# initialize hyperparameters\n",
    "hyperparameters = {\n",
    "    \"max_depth\": \"5\",\n",
    "    \"num_round\": \"100\",\n",
    "    \"eta\": \"0.2\",\n",
    "    \"gamma\" : \"4\",\n",
    "    \"min_child_weight\": \"6\",\n",
    "    \"subsample\": \"0.7\",\n",
    "    \"objective\": \"binary:logistic\",\n",
    "}\n"
   ]
  },
  {
   "cell_type": "markdown",
   "id": "f6423696",
   "metadata": {},
   "source": [
    "Construct a Sagemaker estimator that calls the XGBOOST-container"
   ]
  },
  {
   "cell_type": "code",
   "execution_count": 60,
   "id": "5af4c37f",
   "metadata": {},
   "outputs": [],
   "source": [
    "estimator = sagemaker.estimator.Estimator(image_uri= container,\n",
    "                                         hyperparameters=hyperparameters,\n",
    "                                         role=sagemaker.get_execution_role(),\n",
    "                                         instance_count=1,\n",
    "                                         instance_type = 'ml.m5.2xlarge',\n",
    "                                         volume_size = 5, #5 GB\n",
    "                                         output_path= output_path,\n",
    "                                         use_spot_instances= True,\n",
    "                                         max_run= 300,\n",
    "                                         max_wait=600)"
   ]
  },
  {
   "cell_type": "code",
   "execution_count": 61,
   "id": "ea35407d",
   "metadata": {},
   "outputs": [
    {
     "name": "stderr",
     "output_type": "stream",
     "text": [
      "INFO:sagemaker:Creating training-job with name: sagemaker-xgboost-2023-07-03-05-53-49-356\n"
     ]
    },
    {
     "name": "stdout",
     "output_type": "stream",
     "text": [
      "2023-07-03 05:53:49 Starting - Starting the training job...\n",
      "2023-07-03 05:54:03 Starting - Preparing the instances for training......\n",
      "2023-07-03 05:54:59 Downloading - Downloading input data...\n",
      "2023-07-03 05:55:40 Training - Training image download completed. Training in progress...\u001b[34m[2023-07-03 05:56:03.329 ip-10-0-203-124.eu-north-1.compute.internal:7 INFO utils.py:27] RULE_JOB_STOP_SIGNAL_FILENAME: None\u001b[0m\n",
      "\u001b[34mINFO:sagemaker-containers:Imported framework sagemaker_xgboost_container.training\u001b[0m\n",
      "\u001b[34mINFO:sagemaker-containers:Failed to parse hyperparameter objective value binary:logistic to Json.\u001b[0m\n",
      "\u001b[34mReturning the value itself\u001b[0m\n",
      "\u001b[34mINFO:sagemaker-containers:No GPUs detected (normal if no gpus installed)\u001b[0m\n",
      "\u001b[34mINFO:sagemaker_xgboost_container.training:Running XGBoost Sagemaker in algorithm mode\u001b[0m\n",
      "\u001b[34mINFO:root:Determined delimiter of CSV input is ','\u001b[0m\n",
      "\u001b[34mINFO:root:Determined delimiter of CSV input is ','\u001b[0m\n",
      "\u001b[34mINFO:root:Determined delimiter of CSV input is ','\u001b[0m\n",
      "\u001b[34mINFO:root:Determined delimiter of CSV input is ','\u001b[0m\n",
      "\u001b[34mINFO:root:Single node training.\u001b[0m\n",
      "\u001b[34m[05:56:03] 12357x59 matrix with 729063 entries loaded from /opt/ml/input/data/train?format=csv&label_column=0&delimiter=,\u001b[0m\n",
      "\u001b[34m[05:56:03] 12357x59 matrix with 729063 entries loaded from /opt/ml/input/data/validation?format=csv&label_column=0&delimiter=,\u001b[0m\n",
      "\u001b[34m[2023-07-03 05:56:03.456 ip-10-0-203-124.eu-north-1.compute.internal:7 INFO json_config.py:91] Creating hook from json_config at /opt/ml/input/config/debughookconfig.json.\u001b[0m\n",
      "\u001b[34m[2023-07-03 05:56:03.457 ip-10-0-203-124.eu-north-1.compute.internal:7 INFO hook.py:201] tensorboard_dir has not been set for the hook. SMDebug will not be exporting tensorboard summaries.\u001b[0m\n",
      "\u001b[34m[2023-07-03 05:56:03.457 ip-10-0-203-124.eu-north-1.compute.internal:7 INFO profiler_config_parser.py:102] User has disabled profiler.\u001b[0m\n",
      "\u001b[34m[2023-07-03 05:56:03.458 ip-10-0-203-124.eu-north-1.compute.internal:7 INFO hook.py:255] Saving to /opt/ml/output/tensors\u001b[0m\n",
      "\u001b[34m[2023-07-03 05:56:03.458 ip-10-0-203-124.eu-north-1.compute.internal:7 INFO state_store.py:77] The checkpoint config file /opt/ml/input/config/checkpointconfig.json does not exist.\u001b[0m\n",
      "\u001b[34mINFO:root:Debug hook created from config\u001b[0m\n",
      "\u001b[34mINFO:root:Train matrix has 12357 rows\u001b[0m\n",
      "\u001b[34mINFO:root:Validation matrix has 12357 rows\u001b[0m\n",
      "\u001b[34m[05:56:03] WARNING: /workspace/src/learner.cc:328: \u001b[0m\n",
      "\u001b[34mParameters: { num_round } might not be used.\n",
      "  This may not be accurate due to some parameters are only used in language bindings but\n",
      "  passed down to XGBoost core.  Or some parameters are not used but slip through this\n",
      "  verification. Please open an issue if you find above cases.\u001b[0m\n",
      "\u001b[34m[0]#011train-error:0.09994#011validation-error:0.09994\u001b[0m\n",
      "\u001b[34m[2023-07-03 05:56:03.475 ip-10-0-203-124.eu-north-1.compute.internal:7 INFO hook.py:423] Monitoring the collections: metrics\u001b[0m\n",
      "\u001b[34m[2023-07-03 05:56:03.477 ip-10-0-203-124.eu-north-1.compute.internal:7 INFO hook.py:486] Hook is writing from the hook with pid: 7\u001b[0m\n",
      "\u001b[34m[1]#011train-error:0.09986#011validation-error:0.09986\u001b[0m\n",
      "\u001b[34m[2]#011train-error:0.09938#011validation-error:0.09938\u001b[0m\n",
      "\u001b[34m[3]#011train-error:0.09930#011validation-error:0.09930\u001b[0m\n",
      "\u001b[34m[4]#011train-error:0.09905#011validation-error:0.09905\u001b[0m\n",
      "\u001b[34m[5]#011train-error:0.09913#011validation-error:0.09913\u001b[0m\n",
      "\u001b[34m[6]#011train-error:0.09897#011validation-error:0.09897\u001b[0m\n",
      "\u001b[34m[7]#011train-error:0.09962#011validation-error:0.09962\u001b[0m\n",
      "\u001b[34m[8]#011train-error:0.09954#011validation-error:0.09954\u001b[0m\n",
      "\u001b[34m[9]#011train-error:0.09905#011validation-error:0.09905\u001b[0m\n",
      "\u001b[34m[10]#011train-error:0.09905#011validation-error:0.09905\u001b[0m\n",
      "\u001b[34m[11]#011train-error:0.09913#011validation-error:0.09913\u001b[0m\n",
      "\u001b[34m[12]#011train-error:0.09970#011validation-error:0.09970\u001b[0m\n",
      "\u001b[34m[13]#011train-error:0.09930#011validation-error:0.09930\u001b[0m\n",
      "\u001b[34m[14]#011train-error:0.09921#011validation-error:0.09921\u001b[0m\n",
      "\u001b[34m[15]#011train-error:0.09921#011validation-error:0.09921\u001b[0m\n",
      "\u001b[34m[16]#011train-error:0.09938#011validation-error:0.09938\u001b[0m\n",
      "\u001b[34m[17]#011train-error:0.09938#011validation-error:0.09938\u001b[0m\n",
      "\u001b[34m[18]#011train-error:0.09938#011validation-error:0.09938\u001b[0m\n",
      "\u001b[34m[19]#011train-error:0.09921#011validation-error:0.09921\u001b[0m\n",
      "\u001b[34m[20]#011train-error:0.09897#011validation-error:0.09897\u001b[0m\n",
      "\u001b[34m[21]#011train-error:0.09913#011validation-error:0.09913\u001b[0m\n",
      "\u001b[34m[22]#011train-error:0.09897#011validation-error:0.09897\u001b[0m\n",
      "\u001b[34m[23]#011train-error:0.09930#011validation-error:0.09930\u001b[0m\n",
      "\u001b[34m[24]#011train-error:0.09905#011validation-error:0.09905\u001b[0m\n",
      "\u001b[34m[25]#011train-error:0.09841#011validation-error:0.09841\u001b[0m\n",
      "\u001b[34m[26]#011train-error:0.09865#011validation-error:0.09865\u001b[0m\n",
      "\u001b[34m[27]#011train-error:0.09905#011validation-error:0.09905\u001b[0m\n",
      "\u001b[34m[28]#011train-error:0.09873#011validation-error:0.09873\u001b[0m\n",
      "\u001b[34m[29]#011train-error:0.09857#011validation-error:0.09857\u001b[0m\n",
      "\u001b[34m[30]#011train-error:0.09865#011validation-error:0.09865\u001b[0m\n",
      "\u001b[34m[31]#011train-error:0.09897#011validation-error:0.09897\u001b[0m\n",
      "\u001b[34m[32]#011train-error:0.09768#011validation-error:0.09768\u001b[0m\n",
      "\u001b[34m[33]#011train-error:0.09752#011validation-error:0.09752\u001b[0m\n",
      "\u001b[34m[34]#011train-error:0.09752#011validation-error:0.09752\u001b[0m\n",
      "\u001b[34m[35]#011train-error:0.09760#011validation-error:0.09760\u001b[0m\n",
      "\u001b[34m[36]#011train-error:0.09687#011validation-error:0.09687\u001b[0m\n",
      "\u001b[34m[37]#011train-error:0.09695#011validation-error:0.09695\u001b[0m\n",
      "\u001b[34m[38]#011train-error:0.09711#011validation-error:0.09711\u001b[0m\n",
      "\u001b[34m[39]#011train-error:0.09703#011validation-error:0.09703\u001b[0m\n",
      "\u001b[34m[40]#011train-error:0.09735#011validation-error:0.09735\u001b[0m\n",
      "\u001b[34m[41]#011train-error:0.09768#011validation-error:0.09768\u001b[0m\n",
      "\u001b[34m[42]#011train-error:0.09711#011validation-error:0.09711\u001b[0m\n",
      "\u001b[34m[43]#011train-error:0.09735#011validation-error:0.09735\u001b[0m\n",
      "\u001b[34m[44]#011train-error:0.09695#011validation-error:0.09695\u001b[0m\n",
      "\u001b[34m[45]#011train-error:0.09687#011validation-error:0.09687\u001b[0m\n",
      "\u001b[34m[46]#011train-error:0.09671#011validation-error:0.09671\u001b[0m\n",
      "\u001b[34m[47]#011train-error:0.09663#011validation-error:0.09663\u001b[0m\n",
      "\u001b[34m[48]#011train-error:0.09654#011validation-error:0.09654\u001b[0m\n",
      "\u001b[34m[49]#011train-error:0.09671#011validation-error:0.09671\u001b[0m\n",
      "\u001b[34m[50]#011train-error:0.09671#011validation-error:0.09671\u001b[0m\n",
      "\u001b[34m[51]#011train-error:0.09663#011validation-error:0.09663\u001b[0m\n",
      "\u001b[34m[52]#011train-error:0.09638#011validation-error:0.09638\u001b[0m\n",
      "\u001b[34m[53]#011train-error:0.09646#011validation-error:0.09646\u001b[0m\n",
      "\u001b[34m[54]#011train-error:0.09646#011validation-error:0.09646\u001b[0m\n",
      "\u001b[34m[55]#011train-error:0.09638#011validation-error:0.09638\u001b[0m\n",
      "\u001b[34m[56]#011train-error:0.09622#011validation-error:0.09622\u001b[0m\n",
      "\u001b[34m[57]#011train-error:0.09630#011validation-error:0.09630\u001b[0m\n",
      "\u001b[34m[58]#011train-error:0.09638#011validation-error:0.09638\u001b[0m\n",
      "\u001b[34m[59]#011train-error:0.09638#011validation-error:0.09638\u001b[0m\n",
      "\u001b[34m[60]#011train-error:0.09638#011validation-error:0.09638\u001b[0m\n",
      "\u001b[34m[61]#011train-error:0.09654#011validation-error:0.09654\u001b[0m\n",
      "\u001b[34m[62]#011train-error:0.09638#011validation-error:0.09638\u001b[0m\n",
      "\u001b[34m[63]#011train-error:0.09638#011validation-error:0.09638\u001b[0m\n",
      "\u001b[34m[64]#011train-error:0.09630#011validation-error:0.09630\u001b[0m\n",
      "\u001b[34m[65]#011train-error:0.09606#011validation-error:0.09606\u001b[0m\n",
      "\u001b[34m[66]#011train-error:0.09606#011validation-error:0.09606\u001b[0m\n",
      "\u001b[34m[67]#011train-error:0.09598#011validation-error:0.09598\u001b[0m\n",
      "\u001b[34m[68]#011train-error:0.09590#011validation-error:0.09590\u001b[0m\n",
      "\u001b[34m[69]#011train-error:0.09565#011validation-error:0.09565\u001b[0m\n",
      "\u001b[34m[70]#011train-error:0.09557#011validation-error:0.09557\u001b[0m\n",
      "\u001b[34m[71]#011train-error:0.09574#011validation-error:0.09574\u001b[0m\n",
      "\u001b[34m[72]#011train-error:0.09541#011validation-error:0.09541\u001b[0m\n",
      "\u001b[34m[73]#011train-error:0.09549#011validation-error:0.09549\u001b[0m\n",
      "\u001b[34m[74]#011train-error:0.09549#011validation-error:0.09549\u001b[0m\n",
      "\u001b[34m[75]#011train-error:0.09541#011validation-error:0.09541\u001b[0m\n",
      "\u001b[34m[76]#011train-error:0.09541#011validation-error:0.09541\u001b[0m\n",
      "\u001b[34m[77]#011train-error:0.09541#011validation-error:0.09541\u001b[0m\n",
      "\u001b[34m[78]#011train-error:0.09525#011validation-error:0.09525\u001b[0m\n",
      "\u001b[34m[79]#011train-error:0.09517#011validation-error:0.09517\u001b[0m\n",
      "\u001b[34m[80]#011train-error:0.09525#011validation-error:0.09525\u001b[0m\n",
      "\u001b[34m[81]#011train-error:0.09533#011validation-error:0.09533\u001b[0m\n",
      "\u001b[34m[82]#011train-error:0.09525#011validation-error:0.09525\u001b[0m\n",
      "\u001b[34m[83]#011train-error:0.09509#011validation-error:0.09509\u001b[0m\n",
      "\u001b[34m[84]#011train-error:0.09501#011validation-error:0.09501\u001b[0m\n",
      "\u001b[34m[85]#011train-error:0.09484#011validation-error:0.09484\u001b[0m\n",
      "\u001b[34m[86]#011train-error:0.09476#011validation-error:0.09476\u001b[0m\n",
      "\u001b[34m[87]#011train-error:0.09484#011validation-error:0.09484\u001b[0m\n",
      "\u001b[34m[88]#011train-error:0.09509#011validation-error:0.09509\u001b[0m\n",
      "\u001b[34m[89]#011train-error:0.09509#011validation-error:0.09509\u001b[0m\n",
      "\u001b[34m[90]#011train-error:0.09501#011validation-error:0.09501\u001b[0m\n",
      "\u001b[34m[91]#011train-error:0.09493#011validation-error:0.09493\u001b[0m\n",
      "\u001b[34m[92]#011train-error:0.09501#011validation-error:0.09501\u001b[0m\n",
      "\u001b[34m[93]#011train-error:0.09501#011validation-error:0.09501\u001b[0m\n",
      "\u001b[34m[94]#011train-error:0.09509#011validation-error:0.09509\u001b[0m\n",
      "\u001b[34m[95]#011train-error:0.09509#011validation-error:0.09509\u001b[0m\n",
      "\u001b[34m[96]#011train-error:0.09468#011validation-error:0.09468\u001b[0m\n",
      "\u001b[34m[97]#011train-error:0.09395#011validation-error:0.09395\u001b[0m\n",
      "\u001b[34m[98]#011train-error:0.09412#011validation-error:0.09412\u001b[0m\n",
      "\u001b[34m[99]#011train-error:0.09363#011validation-error:0.09363\u001b[0m\n",
      "\n",
      "2023-07-03 05:56:10 Uploading - Uploading generated training model\n",
      "2023-07-03 05:56:21 Completed - Training job completed\n",
      "Training seconds: 82\n",
      "Billable seconds: 23\n",
      "Managed Spot Training savings: 72.0%\n"
     ]
    }
   ],
   "source": [
    "estimator.fit({'train': s3_input_train, 'validation': s3_input_test})"
   ]
  },
  {
   "cell_type": "markdown",
   "id": "30ec37f5",
   "metadata": {},
   "source": [
    "***Deploy The ML Model as Endpoints***"
   ]
  },
  {
   "cell_type": "code",
   "execution_count": 63,
   "id": "5755a6eb",
   "metadata": {},
   "outputs": [
    {
     "name": "stderr",
     "output_type": "stream",
     "text": [
      "INFO:sagemaker:Creating model with name: sagemaker-xgboost-2023-07-03-06-06-57-097\n",
      "INFO:sagemaker:Creating endpoint-config with name sagemaker-xgboost-2023-07-03-06-06-57-097\n",
      "INFO:sagemaker:Creating endpoint with name sagemaker-xgboost-2023-07-03-06-06-57-097\n"
     ]
    },
    {
     "name": "stdout",
     "output_type": "stream",
     "text": [
      "----!"
     ]
    }
   ],
   "source": [
    "xgb_predictor = estimator.deploy(initial_instance_count=1, instance_type='ml.m5.xlarge')"
   ]
  },
  {
   "cell_type": "markdown",
   "id": "d50ded83",
   "metadata": {},
   "source": [
    " ***Prediction of the test Data***\n",
    "    \n",
    "When we are giving data to the endpoints, the input is usually in the form of an excel dataset/ tabular dataset. This needs to be serialized before feeding it to the model end point. "
   ]
  },
  {
   "cell_type": "code",
   "execution_count": 67,
   "id": "aba7b1f3",
   "metadata": {},
   "outputs": [],
   "source": [
    "from sagemaker.serializers import CSVSerializer"
   ]
  },
  {
   "cell_type": "code",
   "execution_count": 72,
   "id": "77c2fea0",
   "metadata": {},
   "outputs": [],
   "source": [
    "# Create a predictor\n",
    "predictor = sagemaker.predictor.Predictor(\"sagemaker-xgboost-2023-07-03-06-06-57-097\")"
   ]
  },
  {
   "cell_type": "code",
   "execution_count": 73,
   "id": "4a7be346",
   "metadata": {},
   "outputs": [
    {
     "name": "stdout",
     "output_type": "stream",
     "text": [
      "(12357,)\n"
     ]
    }
   ],
   "source": [
    "# Set the content type and serializer type\n",
    "predictor.content_type = 'text/csv'\n",
    "predictor.serializer = CSVSerializer()\n",
    "\n",
    "# Define the test data\n",
    "test_data_array = test_data.drop(['y_no', 'y_yes'], axis=1).values #load the data into an array\n",
    "\n",
    "# Make predictions\n",
    "predictions = predictor.predict(test_data_array).decode('utf-8')\n",
    "\n",
    "# Process the prediction result\n",
    "predictions_array = np.fromstring(predictions[1:], sep=',')\n",
    "\n",
    "# Print the shape of the predictions array\n",
    "print(predictions_array.shape)"
   ]
  },
  {
   "cell_type": "code",
   "execution_count": 74,
   "id": "f43481da",
   "metadata": {},
   "outputs": [
    {
     "name": "stdout",
     "output_type": "stream",
     "text": [
      "\n",
      "Overall Classification Rate: 90.6%\n",
      "\n",
      "Predicted      No Purchase    Purchase\n",
      "Observed\n",
      "No Purchase    91% (10830)    27% (138)\n",
      "Purchase        9% (1019)     73% (370) \n",
      "\n"
     ]
    }
   ],
   "source": [
    "cm = pd.crosstab(index=test_data['y_yes'], columns=np.round(predictions_array), rownames=['Observed'], colnames=['Predicted'])\n",
    "tn = cm.iloc[0,0]; fn = cm.iloc[1,0]; tp = cm.iloc[1,1]; fp = cm.iloc[0,1]; p = (tp+tn)/(tp+tn+fp+fn)*100\n",
    "print(\"\\n{0:<20}{1:<4.1f}%\\n\".format(\"Overall Classification Rate: \", p))\n",
    "print(\"{0:<15}{1:<15}{2:>8}\".format(\"Predicted\", \"No Purchase\", \"Purchase\"))\n",
    "print(\"Observed\")\n",
    "print(\"{0:<15}{1:<2.0f}% ({2:<}){3:>6.0f}% ({4:<})\".format(\"No Purchase\", tn/(tn+fn)*100,tn, fp/(tp+fp)*100, fp))\n",
    "print(\"{0:<16}{1:<1.0f}% ({2:<}){3:>7.0f}% ({4:<}) \\n\".format(\"Purchase\", fn/(tn+fn)*100,fn, tp/(tp+fp)*100, tp))"
   ]
  },
  {
   "cell_type": "markdown",
   "id": "98fe7973",
   "metadata": {},
   "source": [
    "***Delete the endpoints***\n",
    "\n",
    "We have to delete the endpoints and the buckets in order to stop the billing."
   ]
  },
  {
   "cell_type": "code",
   "execution_count": 75,
   "id": "ca8ffa91",
   "metadata": {},
   "outputs": [
    {
     "name": "stderr",
     "output_type": "stream",
     "text": [
      "WARNING:sagemaker.deprecations:The endpoint attribute has been renamed in sagemaker>=2.\n",
      "See: https://sagemaker.readthedocs.io/en/stable/v2.html for details.\n",
      "INFO:sagemaker:Deleting endpoint with name: sagemaker-xgboost-2023-07-03-06-06-57-097\n"
     ]
    },
    {
     "data": {
      "text/plain": [
       "[{'ResponseMetadata': {'RequestId': '51CBE32BD16CRJ47',\n",
       "   'HostId': 'qCr4QE18kAyEzDrTRPljZyGFGX9v6EUNCQOq5II3i/sa2Rk2Ste9NqH9qPUul+BPQqKE2O1/vVg=',\n",
       "   'HTTPStatusCode': 200,\n",
       "   'HTTPHeaders': {'x-amz-id-2': 'qCr4QE18kAyEzDrTRPljZyGFGX9v6EUNCQOq5II3i/sa2Rk2Ste9NqH9qPUul+BPQqKE2O1/vVg=',\n",
       "    'x-amz-request-id': '51CBE32BD16CRJ47',\n",
       "    'date': 'Mon, 03 Jul 2023 06:52:46 GMT',\n",
       "    'content-type': 'application/xml',\n",
       "    'transfer-encoding': 'chunked',\n",
       "    'server': 'AmazonS3',\n",
       "    'connection': 'close'},\n",
       "   'RetryAttempts': 0},\n",
       "  'Deleted': [{'Key': 'xgboost-as-a-built-in-algo/output/sagemaker-xgboost-2023-07-03-05-53-49-356/profiler-output/system/incremental/2023070305/1688363700.algo-1.json'},\n",
       "   {'Key': 'xgboost-as-a-built-in-algo/output/sagemaker-xgboost-2023-07-03-05-53-49-356/debug-output/index/000000000/000000000090_worker_0.json'},\n",
       "   {'Key': 'xgboost-as-a-built-in-algo/output/sagemaker-xgboost-2023-07-03-05-42-49-216/debug-output/training_job_end.ts'},\n",
       "   {'Key': 'xgboost-as-a-built-in-algo/output/sagemaker-xgboost-2023-07-03-05-53-49-356/debug-output/events/000000000000/000000000000_worker_0.tfevents'},\n",
       "   {'Key': 'xgboost-as-a-built-in-algo/output/sagemaker-xgboost-2023-07-03-05-53-49-356/debug-output/events/000000000050/000000000050_worker_0.tfevents'},\n",
       "   {'Key': 'xgboost-as-a-built-in-algo/output/sagemaker-xgboost-2023-07-03-05-53-49-356/debug-output/index/000000000/000000000000_worker_0.json'},\n",
       "   {'Key': 'xgboost-as-a-built-in-algo/output/sagemaker-xgboost-2023-07-03-05-53-49-356/debug-output/index/000000000/000000000030_worker_0.json'},\n",
       "   {'Key': 'xgboost-as-a-built-in-algo/test/test.csv'},\n",
       "   {'Key': 'xgboost-as-a-built-in-algo/output/sagemaker-xgboost-2023-07-03-05-53-49-356/debug-output/claim.smd'},\n",
       "   {'Key': 'xgboost-as-a-built-in-algo/output/sagemaker-xgboost-2023-07-03-05-53-49-356/debug-output/index/000000000/000000000050_worker_0.json'},\n",
       "   {'Key': 'xgboost-as-a-built-in-algo/output/sagemaker-xgboost-2023-07-03-05-42-49-216/profiler-output/system/incremental/2023070305/1688363100.algo-1.json'},\n",
       "   {'Key': 'xgboost-as-a-built-in-algo/output/sagemaker-xgboost-2023-07-03-05-53-49-356/debug-output/events/000000000040/000000000040_worker_0.tfevents'},\n",
       "   {'Key': 'xgboost-as-a-built-in-algo/output/sagemaker-xgboost-2023-07-03-05-53-49-356/output/model.tar.gz'},\n",
       "   {'Key': 'xgboost-as-a-built-in-algo/output/sagemaker-xgboost-2023-07-03-05-53-49-356/profiler-output/system/training_job_end.ts'},\n",
       "   {'Key': 'xgboost-as-a-built-in-algo/output/sagemaker-xgboost-2023-07-03-05-53-49-356/debug-output/index/000000000/000000000060_worker_0.json'},\n",
       "   {'Key': 'xgboost-as-a-built-in-algo/output/sagemaker-xgboost-2023-07-03-05-53-49-356/debug-output/events/000000000090/000000000090_worker_0.tfevents'},\n",
       "   {'Key': 'xgboost-as-a-built-in-algo/output/sagemaker-xgboost-2023-07-03-05-53-49-356/debug-output/index/000000000/000000000040_worker_0.json'},\n",
       "   {'Key': 'xgboost-as-a-built-in-algo/output/sagemaker-xgboost-2023-07-03-05-53-49-356/profiler-output/framework/training_job_end.ts'},\n",
       "   {'Key': 'xgboost-as-a-built-in-algo/output/sagemaker-xgboost-2023-07-03-05-53-49-356/debug-output/index/000000000/000000000020_worker_0.json'},\n",
       "   {'Key': 'xgboost-as-a-built-in-algo/output/sagemaker-xgboost-2023-07-03-05-53-49-356/debug-output/index/000000000/000000000070_worker_0.json'},\n",
       "   {'Key': 'xgboost-as-a-built-in-algo/output/sagemaker-xgboost-2023-07-03-05-53-49-356/profiler-output/system/incremental/2023070305/1688363760.algo-1.json'},\n",
       "   {'Key': 'xgboost-as-a-built-in-algo/output/sagemaker-xgboost-2023-07-03-05-42-49-216/profiler-output/framework/training_job_end.ts'},\n",
       "   {'Key': 'xgboost-as-a-built-in-algo/output/sagemaker-xgboost-2023-07-03-05-53-49-356/debug-output/index/000000000/000000000080_worker_0.json'},\n",
       "   {'Key': 'xgboost-as-a-built-in-algo/output/sagemaker-xgboost-2023-07-03-05-42-49-216/profiler-output/system/incremental/2023070305/1688363040.algo-1.json'},\n",
       "   {'Key': 'xgboost-as-a-built-in-algo/output/sagemaker-xgboost-2023-07-03-05-53-49-356/debug-output/index/000000000/000000000010_worker_0.json'},\n",
       "   {'Key': 'xgboost-as-a-built-in-algo/output/sagemaker-xgboost-2023-07-03-05-53-49-356/debug-output/collections/000000000/worker_0_collections.json'},\n",
       "   {'Key': 'xgboost-as-a-built-in-algo/output/sagemaker-xgboost-2023-07-03-05-53-49-356/debug-output/events/000000000070/000000000070_worker_0.tfevents'},\n",
       "   {'Key': 'xgboost-as-a-built-in-algo/output/sagemaker-xgboost-2023-07-03-05-53-49-356/debug-output/events/000000000010/000000000010_worker_0.tfevents'},\n",
       "   {'Key': 'xgboost-as-a-built-in-algo/train/train.csv'},\n",
       "   {'Key': 'xgboost-as-a-built-in-algo/output/sagemaker-xgboost-2023-07-03-05-42-49-216/profiler-output/system/training_job_end.ts'},\n",
       "   {'Key': 'xgboost-as-a-built-in-algo/output/sagemaker-xgboost-2023-07-03-05-53-49-356/debug-output/events/000000000020/000000000020_worker_0.tfevents'},\n",
       "   {'Key': 'xgboost-as-a-built-in-algo/output/sagemaker-xgboost-2023-07-03-05-53-49-356/debug-output/events/000000000080/000000000080_worker_0.tfevents'},\n",
       "   {'Key': 'xgboost-as-a-built-in-algo/output/sagemaker-xgboost-2023-07-03-05-53-49-356/debug-output/training_job_end.ts'},\n",
       "   {'Key': 'xgboost-as-a-built-in-algo/output/sagemaker-xgboost-2023-07-03-05-53-49-356/debug-output/events/000000000060/000000000060_worker_0.tfevents'},\n",
       "   {'Key': 'xgboost-as-a-built-in-algo/output/sagemaker-xgboost-2023-07-03-05-53-49-356/debug-output/events/000000000030/000000000030_worker_0.tfevents'}]}]"
      ]
     },
     "execution_count": 75,
     "metadata": {},
     "output_type": "execute_result"
    }
   ],
   "source": [
    "sagemaker.Session().delete_endpoint(xgb_predictor.endpoint)\n",
    "bucket_to_delete = boto3.resource('s3').Bucket(bucket_name)\n",
    "bucket_to_delete.objects.all().delete()"
   ]
  },
  {
   "cell_type": "code",
   "execution_count": null,
   "id": "6cb444ad",
   "metadata": {},
   "outputs": [],
   "source": []
  }
 ],
 "metadata": {
  "kernelspec": {
   "display_name": "conda_python3",
   "language": "python",
   "name": "conda_python3"
  },
  "language_info": {
   "codemirror_mode": {
    "name": "ipython",
    "version": 3
   },
   "file_extension": ".py",
   "mimetype": "text/x-python",
   "name": "python",
   "nbconvert_exporter": "python",
   "pygments_lexer": "ipython3",
   "version": "3.10.10"
  }
 },
 "nbformat": 4,
 "nbformat_minor": 5
}
